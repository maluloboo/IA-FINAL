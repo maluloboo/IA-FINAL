{
  "cells": [
    {
      "cell_type": "code",
      "source": [
        "import tensorflow as tf\n",
        "import numpy as np\n",
        "import matplotlib.pyplot as plt\n",
        "from tensorflow.keras.preprocessing import image\n",
        "from google.colab import files"
      ],
      "metadata": {
        "id": "nqCV8nfzZkYL"
      },
      "execution_count": 1,
      "outputs": []
    },
    {
      "cell_type": "code",
      "execution_count": 2,
      "metadata": {
        "id": "zwFnJsE6vjf8"
      },
      "outputs": [],
      "source": [
        "def load_model_from_h5(model_path):\n",
        "    model = tf.keras.models.load_model(model_path, compile=False)\n",
        "    return model\n",
        "\n",
        "def load_class_names(labels_path):\n",
        "    with open(labels_path, 'r') as f:\n",
        "        class_names = [line.strip() for line in f.readlines()]\n",
        "    return class_names"
      ]
    },
    {
      "cell_type": "code",
      "source": [
        "from tensorflow.keras.preprocessing import image\n",
        "import numpy as np\n",
        "import matplotlib.pyplot as plt\n",
        "\n",
        "def prepare_image(image_path):\n",
        "    img = image.load_img(image_path, target_size=(224, 224))\n",
        "    img_array = image.img_to_array(img)\n",
        "    img_array = np.expand_dims(img_array, axis=0)\n",
        "    img_array /= 255.0\n",
        "    return img_array\n",
        "\n",
        "def classify_and_display_image(model, class_names, img_path):\n",
        "    data = prepare_image(img_path)\n",
        "    prediction = model.predict(data)\n",
        "    index = np.argmax(prediction)\n",
        "    class_name = class_names[index]\n",
        "    confidence_score = prediction[0][index]\n",
        "\n",
        "    print(\"Class:\", class_name)\n",
        "\n",
        "    img = image.load_img(img_path)\n",
        "    plt.imshow(img)\n",
        "    plt.title(f\"Predicted: {class_name} ({confidence_score:.2f})\")\n",
        "    plt.axis('off')\n",
        "    plt.show()\n"
      ],
      "metadata": {
        "id": "wKhUkjWnaGEh"
      },
      "execution_count": 7,
      "outputs": []
    },
    {
      "cell_type": "code",
      "source": [
        "from tensorflow.keras.models import load_model\n",
        "from tensorflow.keras.preprocessing import image\n",
        "import numpy as np\n",
        "import matplotlib.pyplot as plt\n",
        "from google.colab import files\n",
        "\n",
        "def prepare_image(image_path):\n",
        "    img = image.load_img(image_path, target_size=(224, 224))\n",
        "    img_array = image.img_to_array(img)\n",
        "    img_array = np.expand_dims(img_array, axis=0)\n",
        "    img_array /= 255.0\n",
        "    return img_array\n",
        "\n",
        "def classify_and_display_image(model, class_names, img_path):\n",
        "    data = prepare_image(img_path)\n",
        "    prediction = model.predict(data)\n",
        "    index = np.argmax(prediction)\n",
        "    class_name = class_names[index]\n",
        "    confidence_score = prediction[0][index]\n",
        "\n",
        "    print(\"Class:\", class_name)\n",
        "\n",
        "    img = image.load_img(img_path)\n",
        "    plt.imshow(img)\n",
        "    plt.title(f\"Predicted: {class_name} ({confidence_score:.2f})\")\n",
        "    plt.axis('off')\n",
        "    plt.show()\n",
        "\n",
        "def upload_and_classify_image(model, class_names):\n",
        "    uploaded = files.upload()\n",
        "    for img_name in uploaded.keys():\n",
        "        print(f\"Classifying image: {img_name}\")\n",
        "        classify_and_display_image(model, class_names, img_name)\n",
        "\n",
        "def load_model_from_h5(model_path):\n",
        "    try:\n",
        "        model = load_model(model_path)\n",
        "        print(\"Modelo carregado com sucesso.\")\n",
        "    except Exception as e:\n",
        "        print(f\"Erro ao carregar o modelo: {e}\")\n",
        "        model = None\n",
        "    return model\n",
        "\n",
        "def load_class_names(labels_path):\n",
        "    try:\n",
        "        with open(labels_path, 'r') as file:\n",
        "            class_names = [line.strip() for line in file.readlines()]\n",
        "        print(\"Nomes das classes carregados com sucesso.\")\n",
        "    except Exception as e:\n",
        "        print(f\"Erro ao carregar os nomes das classes: {e}\")\n",
        "        class_names = []\n",
        "    return class_names\n",
        "\n",
        "model_path = 'keras_model.h5'\n",
        "labels_path = 'labels.txt'\n",
        "\n",
        "model = load_model_from_h5(model_path)\n",
        "class_names = load_class_names(labels_path)\n",
        "\n",
        "if model and class_names:\n",
        "    upload_and_classify_image(model, class_names)\n",
        "else:\n",
        "    print(\"Erro: Certifique-se de que o modelo e os nomes das classes foram carregados corretamente.\")\n"
      ],
      "metadata": {
        "colab": {
          "base_uri": "https://localhost:8080/"
        },
        "id": "kTo8b2bVfLkF",
        "outputId": "53e54e8a-1e7e-49b8-8516-1afc5185ada7"
      },
      "execution_count": 11,
      "outputs": [
        {
          "output_type": "stream",
          "name": "stdout",
          "text": [
            "Erro ao carregar o modelo: [Errno 2] Unable to synchronously open file (unable to open file: name = 'keras_model.h5', errno = 2, error message = 'No such file or directory', flags = 0, o_flags = 0)\n",
            "Erro ao carregar os nomes das classes: [Errno 2] No such file or directory: 'labels.txt'\n",
            "Erro: Certifique-se de que o modelo e os nomes das classes foram carregados corretamente.\n"
          ]
        }
      ]
    },
    {
      "cell_type": "code",
      "source": [
        "from tensorflow.keras.preprocessing import image\n",
        "import numpy as np\n",
        "import matplotlib.pyplot as plt\n",
        "import tkinter as tk\n",
        "from tkinter import filedialog\n",
        "\n",
        "def prepare_image(image_path):\n",
        "    img = image.load_img(image_path, target_size=(224, 224))\n",
        "    img_array = image.img_to_array(img)\n",
        "    img_array = np.expand_dims(img_array, axis=0)\n",
        "    img_array /= 255.0\n",
        "    return img_array\n",
        "\n",
        "def classify_and_display_image(model, class_names, img_path):\n",
        "    data = prepare_image(img_path)\n",
        "    prediction = model.predict(data)\n",
        "    index\n"
      ],
      "metadata": {
        "id": "I57aHU6ob0m5"
      },
      "execution_count": 12,
      "outputs": []
    }
  ],
  "metadata": {
    "colab": {
      "name": "Olá, este é o Colaboratory",
      "toc_visible": true,
      "provenance": []
    },
    "kernelspec": {
      "display_name": "Python 3",
      "name": "python3"
    }
  },
  "nbformat": 4,
  "nbformat_minor": 0
}